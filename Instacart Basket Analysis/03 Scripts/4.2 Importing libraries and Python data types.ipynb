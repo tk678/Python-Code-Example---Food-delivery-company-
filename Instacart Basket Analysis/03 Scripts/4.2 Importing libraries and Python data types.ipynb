{
 "cells": [
  {
   "cell_type": "markdown",
   "id": "0f56f590-8679-4edd-9e2c-6a68599bc040",
   "metadata": {},
   "source": [
    "#importing libaries "
   ]
  },
  {
   "cell_type": "code",
   "execution_count": 31,
   "id": "8888b606-6c38-4126-b7a7-e8ce16d8690a",
   "metadata": {},
   "outputs": [],
   "source": [
    "import pandas as pd\n",
    "import numpy as np\n",
    "import os"
   ]
  },
  {
   "cell_type": "code",
   "execution_count": null,
   "id": "bf2d6c28-81e0-4589-be8e-122dcf609a4f",
   "metadata": {},
   "outputs": [],
   "source": []
  },
  {
   "cell_type": "code",
   "execution_count": 2,
   "id": "38bfd785-78a6-4808-adf2-fbc1ffc6713a",
   "metadata": {},
   "outputs": [],
   "source": [
    "x = 2"
   ]
  },
  {
   "cell_type": "code",
   "execution_count": 3,
   "id": "d7ceffdd-2f34-4dd1-8655-498236291c17",
   "metadata": {},
   "outputs": [
    {
     "data": {
      "text/plain": [
       "2"
      ]
     },
     "execution_count": 3,
     "metadata": {},
     "output_type": "execute_result"
    }
   ],
   "source": [
    "x"
   ]
  },
  {
   "cell_type": "markdown",
   "id": "c36c3e77-bda1-4abd-8a6b-300e2d400db5",
   "metadata": {},
   "source": []
  },
  {
   "cell_type": "code",
   "execution_count": 4,
   "id": "cca1a785-6fda-46aa-bfb9-5240f6e38a38",
   "metadata": {},
   "outputs": [
    {
     "name": "stdout",
     "output_type": "stream",
     "text": [
      "2\n"
     ]
    }
   ],
   "source": [
    "print(x)"
   ]
  },
  {
   "cell_type": "code",
   "execution_count": 5,
   "id": "5d9f36de-dae3-4900-89ca-970ce56fd9d5",
   "metadata": {},
   "outputs": [
    {
     "data": {
      "text/plain": [
       "int"
      ]
     },
     "execution_count": 5,
     "metadata": {},
     "output_type": "execute_result"
    }
   ],
   "source": [
    "type(x)"
   ]
  },
  {
   "cell_type": "code",
   "execution_count": 7,
   "id": "7e572947-656c-4d29-860e-5f95481cde0a",
   "metadata": {},
   "outputs": [],
   "source": [
    "y = 5.678"
   ]
  },
  {
   "cell_type": "code",
   "execution_count": 8,
   "id": "7fe1d362-31f9-442b-9186-6c110b1d88a2",
   "metadata": {},
   "outputs": [
    {
     "name": "stdout",
     "output_type": "stream",
     "text": [
      "5.678\n"
     ]
    }
   ],
   "source": [
    "print (y)"
   ]
  },
  {
   "cell_type": "code",
   "execution_count": 9,
   "id": "fc53d013-0959-45c0-95c1-8ff44954209e",
   "metadata": {},
   "outputs": [
    {
     "data": {
      "text/plain": [
       "float"
      ]
     },
     "execution_count": 9,
     "metadata": {},
     "output_type": "execute_result"
    }
   ],
   "source": [
    "type(y)"
   ]
  },
  {
   "cell_type": "code",
   "execution_count": 10,
   "id": "6511412d-4cc9-4082-b498-63d7ada2be8f",
   "metadata": {},
   "outputs": [],
   "source": [
    "z = 'Brazil'"
   ]
  },
  {
   "cell_type": "code",
   "execution_count": 11,
   "id": "97bf624c-60dc-4a0d-b4b5-46ca98a87962",
   "metadata": {},
   "outputs": [
    {
     "data": {
      "text/plain": [
       "str"
      ]
     },
     "execution_count": 11,
     "metadata": {},
     "output_type": "execute_result"
    }
   ],
   "source": [
    "type(z)"
   ]
  },
  {
   "cell_type": "code",
   "execution_count": 12,
   "id": "b906c453-0282-4889-96cb-1e196aedf5d3",
   "metadata": {},
   "outputs": [
    {
     "data": {
      "text/plain": [
       "str"
      ]
     },
     "execution_count": 12,
     "metadata": {},
     "output_type": "execute_result"
    }
   ],
   "source": [
    "type('miana')"
   ]
  },
  {
   "cell_type": "code",
   "execution_count": 14,
   "id": "95ed7d47-781c-48f6-aac5-c47cd8d34f3c",
   "metadata": {},
   "outputs": [
    {
     "data": {
      "text/plain": [
       "bool"
      ]
     },
     "execution_count": 14,
     "metadata": {},
     "output_type": "execute_result"
    }
   ],
   "source": [
    "type(True)"
   ]
  },
  {
   "cell_type": "code",
   "execution_count": 15,
   "id": "74594c6a-1455-4985-9726-757646ccef95",
   "metadata": {},
   "outputs": [
    {
     "data": {
      "text/plain": [
       "bool"
      ]
     },
     "execution_count": 15,
     "metadata": {},
     "output_type": "execute_result"
    }
   ],
   "source": [
    "type(False)"
   ]
  },
  {
   "cell_type": "code",
   "execution_count": 16,
   "id": "41f3ea82-447c-4fc3-ae1b-b8c437451770",
   "metadata": {},
   "outputs": [
    {
     "data": {
      "text/plain": [
       "6"
      ]
     },
     "execution_count": 16,
     "metadata": {},
     "output_type": "execute_result"
    }
   ],
   "source": [
    "x+4"
   ]
  },
  {
   "cell_type": "code",
   "execution_count": 17,
   "id": "ceeca177-e8db-46c1-84b6-bd32fa7ecacb",
   "metadata": {},
   "outputs": [
    {
     "data": {
      "text/plain": [
       "7.678"
      ]
     },
     "execution_count": 17,
     "metadata": {},
     "output_type": "execute_result"
    }
   ],
   "source": [
    "x+y"
   ]
  },
  {
   "cell_type": "code",
   "execution_count": 19,
   "id": "510bea93-8c3c-4e66-81d0-feea43b83844",
   "metadata": {},
   "outputs": [],
   "source": [
    "x=x+4"
   ]
  },
  {
   "cell_type": "code",
   "execution_count": 20,
   "id": "ca79006c-a352-43c3-8955-e70ecc3d02f4",
   "metadata": {},
   "outputs": [
    {
     "name": "stdout",
     "output_type": "stream",
     "text": [
      "10\n"
     ]
    }
   ],
   "source": [
    "print(x)"
   ]
  },
  {
   "cell_type": "code",
   "execution_count": 21,
   "id": "5a994f86-5586-4a75-b0e9-206921ffd270",
   "metadata": {},
   "outputs": [],
   "source": [
    "a = 'Hello, '"
   ]
  },
  {
   "cell_type": "code",
   "execution_count": 22,
   "id": "59fc931a-0843-401e-8f97-3fde2b4b2208",
   "metadata": {},
   "outputs": [],
   "source": [
    "b = 'Tom'"
   ]
  },
  {
   "cell_type": "code",
   "execution_count": 23,
   "id": "224a0bfc-69d0-4472-b032-959127a7b774",
   "metadata": {},
   "outputs": [
    {
     "data": {
      "text/plain": [
       "'Hello, Tom'"
      ]
     },
     "execution_count": 23,
     "metadata": {},
     "output_type": "execute_result"
    }
   ],
   "source": [
    "a + b "
   ]
  },
  {
   "cell_type": "code",
   "execution_count": 25,
   "id": "6de38a31-788a-4abd-a745-0b67c51f056b",
   "metadata": {},
   "outputs": [],
   "source": [
    "n = 'potato'"
   ]
  },
  {
   "cell_type": "code",
   "execution_count": 26,
   "id": "740e7047-05a7-492c-ba31-a75bb0e48de0",
   "metadata": {},
   "outputs": [
    {
     "data": {
      "text/plain": [
       "'potatopotatopotatopotatopotatopotatopotatopotatopotatopotatopotatopotato'"
      ]
     },
     "execution_count": 26,
     "metadata": {},
     "output_type": "execute_result"
    }
   ],
   "source": [
    "n * 12"
   ]
  },
  {
   "cell_type": "code",
   "execution_count": 27,
   "id": "4eb12425-4a10-4e69-8308-39f95f8eda44",
   "metadata": {},
   "outputs": [
    {
     "data": {
      "text/plain": [
       "False"
      ]
     },
     "execution_count": 27,
     "metadata": {},
     "output_type": "execute_result"
    }
   ],
   "source": [
    "x==y"
   ]
  },
  {
   "cell_type": "code",
   "execution_count": 28,
   "id": "745aa0c1-b8de-4571-b90e-b703325f7fdd",
   "metadata": {},
   "outputs": [
    {
     "data": {
      "text/plain": [
       "bool"
      ]
     },
     "execution_count": 28,
     "metadata": {},
     "output_type": "execute_result"
    }
   ],
   "source": [
    "type(x==y)"
   ]
  },
  {
   "cell_type": "markdown",
   "id": "776cc913-6dc6-4975-a598-717a5cc60e18",
   "metadata": {},
   "source": [
    "# working with python code "
   ]
  },
  {
   "cell_type": "code",
   "execution_count": 33,
   "id": "4546e946-b59a-4b63-b322-1267325652b9",
   "metadata": {},
   "outputs": [],
   "source": [
    "x = 2"
   ]
  },
  {
   "cell_type": "code",
   "execution_count": 30,
   "id": "b8464b35-5458-4ed7-8f91-734e12d0e66a",
   "metadata": {},
   "outputs": [
    {
     "data": {
      "text/plain": [
       "'Hello, Tom'"
      ]
     },
     "execution_count": 30,
     "metadata": {},
     "output_type": "execute_result"
    }
   ],
   "source": [
    "a + b"
   ]
  },
  {
   "cell_type": "code",
   "execution_count": 34,
   "id": "5fffe9c4-4874-4864-95ad-30d513dc049e",
   "metadata": {},
   "outputs": [],
   "source": [
    "x=100"
   ]
  },
  {
   "cell_type": "code",
   "execution_count": 35,
   "id": "b918bda9-0abc-4940-b266-cf9b382473fe",
   "metadata": {},
   "outputs": [
    {
     "data": {
      "text/plain": [
       "100"
      ]
     },
     "execution_count": 35,
     "metadata": {},
     "output_type": "execute_result"
    }
   ],
   "source": [
    "x"
   ]
  },
  {
   "cell_type": "code",
   "execution_count": 36,
   "id": "767bd239-ad4b-4c57-9dfc-56ad6ec5bf6c",
   "metadata": {},
   "outputs": [
    {
     "data": {
      "text/plain": [
       "100.0"
      ]
     },
     "execution_count": 36,
     "metadata": {},
     "output_type": "execute_result"
    }
   ],
   "source": [
    "x / 1"
   ]
  },
  {
   "cell_type": "code",
   "execution_count": 37,
   "id": "6a5ecbe2-42b4-4ca9-9da1-9b7209bfb775",
   "metadata": {},
   "outputs": [
    {
     "data": {
      "text/plain": [
       "100"
      ]
     },
     "execution_count": 37,
     "metadata": {},
     "output_type": "execute_result"
    }
   ],
   "source": [
    "50 + 50"
   ]
  },
  {
   "cell_type": "code",
   "execution_count": 38,
   "id": "850f6278-cf7b-4726-8ff9-5543d8648e9c",
   "metadata": {},
   "outputs": [
    {
     "data": {
      "text/plain": [
       "100"
      ]
     },
     "execution_count": 38,
     "metadata": {},
     "output_type": "execute_result"
    }
   ],
   "source": [
    "200 - 100"
   ]
  },
  {
   "cell_type": "code",
   "execution_count": 39,
   "id": "90774f6a-cf81-425a-8024-045bfa227e9d",
   "metadata": {},
   "outputs": [],
   "source": [
    "x=2.345"
   ]
  },
  {
   "cell_type": "code",
   "execution_count": 40,
   "id": "22e3436c-0ded-4f99-9282-4bcace7c2093",
   "metadata": {},
   "outputs": [],
   "source": [
    "y=4.567"
   ]
  },
  {
   "cell_type": "code",
   "execution_count": 41,
   "id": "ba19b234-e387-49f0-8406-f148d4bd581f",
   "metadata": {},
   "outputs": [
    {
     "data": {
      "text/plain": [
       "0.5134661703525291"
      ]
     },
     "execution_count": 41,
     "metadata": {},
     "output_type": "execute_result"
    }
   ],
   "source": [
    "x/y"
   ]
  },
  {
   "cell_type": "code",
   "execution_count": 42,
   "id": "1d313255-5c17-4dae-9dd8-29097051ae21",
   "metadata": {},
   "outputs": [],
   "source": [
    "a='bec'"
   ]
  },
  {
   "cell_type": "code",
   "execution_count": 43,
   "id": "76e2ee9d-f50b-4771-a134-f49051c137c4",
   "metadata": {},
   "outputs": [],
   "source": [
    "b='ause'"
   ]
  },
  {
   "cell_type": "code",
   "execution_count": 44,
   "id": "dae3a0a4-9ae2-415d-8521-8b771eb19da4",
   "metadata": {},
   "outputs": [
    {
     "data": {
      "text/plain": [
       "'because'"
      ]
     },
     "execution_count": 44,
     "metadata": {},
     "output_type": "execute_result"
    }
   ],
   "source": [
    "a+b"
   ]
  },
  {
   "cell_type": "code",
   "execution_count": 45,
   "id": "a552f2bc-7ec1-4282-b489-cbf115b1e8ed",
   "metadata": {},
   "outputs": [],
   "source": [
    "c='today I learnt to use python. '"
   ]
  },
  {
   "cell_type": "code",
   "execution_count": 46,
   "id": "c3ed2358-94cc-4af8-89ea-123d8e43cc63",
   "metadata": {},
   "outputs": [],
   "source": [
    "d=' While it was chellenging, it was also rewarding'"
   ]
  },
  {
   "cell_type": "code",
   "execution_count": 47,
   "id": "766a6416-fb56-4bdf-9b5b-3c5c80c4f695",
   "metadata": {},
   "outputs": [
    {
     "data": {
      "text/plain": [
       "'today I learnt to use python.  While it was chellenging, it was also rewarding'"
      ]
     },
     "execution_count": 47,
     "metadata": {},
     "output_type": "execute_result"
    }
   ],
   "source": [
    "c+d"
   ]
  },
  {
   "cell_type": "code",
   "execution_count": 48,
   "id": "5029cf46-df09-4fcd-bc70-332de5be9f74",
   "metadata": {},
   "outputs": [],
   "source": [
    "x = 25"
   ]
  },
  {
   "cell_type": "code",
   "execution_count": 49,
   "id": "a34041f8-7e62-45d8-bd54-d7c0661de69c",
   "metadata": {},
   "outputs": [
    {
     "data": {
      "text/plain": [
       "25"
      ]
     },
     "execution_count": 49,
     "metadata": {},
     "output_type": "execute_result"
    }
   ],
   "source": [
    "x"
   ]
  },
  {
   "cell_type": "code",
   "execution_count": null,
   "id": "bc9fbc7f-4cfa-4028-8520-1ddd03b733df",
   "metadata": {},
   "outputs": [],
   "source": []
  }
 ],
 "metadata": {
  "kernelspec": {
   "display_name": "Python [conda env:base] *",
   "language": "python",
   "name": "conda-base-py"
  },
  "language_info": {
   "codemirror_mode": {
    "name": "ipython",
    "version": 3
   },
   "file_extension": ".py",
   "mimetype": "text/x-python",
   "name": "python",
   "nbconvert_exporter": "python",
   "pygments_lexer": "ipython3",
   "version": "3.12.7"
  }
 },
 "nbformat": 4,
 "nbformat_minor": 5
}
